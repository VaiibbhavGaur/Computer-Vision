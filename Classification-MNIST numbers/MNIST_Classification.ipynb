{
 "cells": [
  {
   "cell_type": "markdown",
   "metadata": {
    "id": "2FOkt_PVMd6h"
   },
   "source": [
    "### Load tensorflow"
   ]
  },
  {
   "cell_type": "code",
   "execution_count": 1,
   "metadata": {
    "executionInfo": {
     "elapsed": 545,
     "status": "ok",
     "timestamp": 1658751104806,
     "user": {
      "displayName": "Vaibhav Gaur",
      "userId": "01960529911757102386"
     },
     "user_tz": -330
    },
    "id": "k8JN1gdfI8Ma"
   },
   "outputs": [],
   "source": [
    "import warnings\n",
    "warnings.filterwarnings('ignore')\n",
    "#!pip3 install -U tensorflow --quiet\n",
    "import matplotlib.pyplot as plt\n",
    "import numpy as np\n",
    "import pickle\n",
    "from tensorflow.keras.models import Sequential\n",
    "from tensorflow.keras.layers import Conv2D, Dropout, MaxPooling2D, Dense, BatchNormalization, LeakyReLU, Reshape"
   ]
  },
  {
   "cell_type": "code",
   "execution_count": 2,
   "metadata": {
    "executionInfo": {
     "elapsed": 3,
     "status": "ok",
     "timestamp": 1658751105637,
     "user": {
      "displayName": "Vaibhav Gaur",
      "userId": "01960529911757102386"
     },
     "user_tz": -330
    },
    "id": "QknvBKm3Md6j"
   },
   "outputs": [],
   "source": [
    "import tensorflow as tf\n",
    "# ?tf.set_random_seed(42)"
   ]
  },
  {
   "cell_type": "markdown",
   "metadata": {
    "id": "QHbDtQQJMd6m"
   },
   "source": [
    "### Collect Data"
   ]
  },
  {
   "cell_type": "code",
   "execution_count": 3,
   "metadata": {
    "executionInfo": {
     "elapsed": 2,
     "status": "ok",
     "timestamp": 1658751105637,
     "user": {
      "displayName": "Vaibhav Gaur",
      "userId": "01960529911757102386"
     },
     "user_tz": -330
    },
    "id": "AJ6bJeCGMd6n"
   },
   "outputs": [],
   "source": [
    "(trainX, trainY),(testX, testY) = tf.keras.datasets.mnist.load_data()"
   ]
  },
  {
   "cell_type": "code",
   "execution_count": 4,
   "metadata": {
    "colab": {
     "base_uri": "https://localhost:8080/"
    },
    "executionInfo": {
     "elapsed": 3,
     "status": "ok",
     "timestamp": 1658751105638,
     "user": {
      "displayName": "Vaibhav Gaur",
      "userId": "01960529911757102386"
     },
     "user_tz": -330
    },
    "id": "OAv--_-Spq4F",
    "outputId": "b20d6ec5-f465-40c4-b40e-c7efca8f680d"
   },
   "outputs": [
    {
     "data": {
      "text/plain": [
       "((60000, 28, 28), (10000, 28, 28))"
      ]
     },
     "execution_count": 4,
     "metadata": {},
     "output_type": "execute_result"
    }
   ],
   "source": [
    "trainX.shape, testX.shape"
   ]
  },
  {
   "cell_type": "code",
   "execution_count": 5,
   "metadata": {
    "colab": {
     "base_uri": "https://localhost:8080/"
    },
    "executionInfo": {
     "elapsed": 11,
     "status": "ok",
     "timestamp": 1658751106073,
     "user": {
      "displayName": "Vaibhav Gaur",
      "userId": "01960529911757102386"
     },
     "user_tz": -330
    },
    "id": "sYNR-wEfpXSK",
    "outputId": "37a86621-8b86-44cf-fc48-c5413dd2c5b9"
   },
   "outputs": [
    {
     "data": {
      "text/plain": [
       "array([[  0,   0,   0,   0,   0,   0,   0,   0,   0,   0,   0,   0,   0,\n",
       "          0,   0,   0,   0,   0,   0,   0,   0,   0,   0,   0,   0,   0,\n",
       "          0,   0],\n",
       "       [  0,   0,   0,   0,   0,   0,   0,   0,   0,   0,   0,   0,   0,\n",
       "          0,   0,   0,   0,   0,   0,   0,   0,   0,   0,   0,   0,   0,\n",
       "          0,   0],\n",
       "       [  0,   0,   0,   0,   0,   0,   0,   0,   0,   0,   0,   0,   0,\n",
       "          0,   0,   0,   0,   0,   0,   0,   0,   0,   0,   0,   0,   0,\n",
       "          0,   0],\n",
       "       [  0,   0,   0,   0,   0,   0,   0,   0,   0,   0,   0,   0,   0,\n",
       "          0,   0,   0,   0,   0,   0,   0,   0,   0,   0,   0,   0,   0,\n",
       "          0,   0],\n",
       "       [  0,   0,   0,   0,   0,   0,   0,   0,   0,   0,   0,   0,   0,\n",
       "          0,   0,   0,   0,   0,   0,   0,   0,   0,   0,   0,   0,   0,\n",
       "          0,   0],\n",
       "       [  0,   0,   0,   0,   0,   0,   0,   0,   0,   0,   0,   0,   0,\n",
       "          0,   0,   0,   0,   0,   0,   0,   0,   0,   0,   0,   0,   0,\n",
       "          0,   0],\n",
       "       [  0,   0,   0,   0,   0,   0,   0,   0,   0,   0,   0,   0,   0,\n",
       "          0,   0,   0,   0,   0,   0,   0,   0,   0,   0,   0,   0,   0,\n",
       "          0,   0],\n",
       "       [  0,   0,   0,   0,   0,   0,  84, 185, 159, 151,  60,  36,   0,\n",
       "          0,   0,   0,   0,   0,   0,   0,   0,   0,   0,   0,   0,   0,\n",
       "          0,   0],\n",
       "       [  0,   0,   0,   0,   0,   0, 222, 254, 254, 254, 254, 241, 198,\n",
       "        198, 198, 198, 198, 198, 198, 198, 170,  52,   0,   0,   0,   0,\n",
       "          0,   0],\n",
       "       [  0,   0,   0,   0,   0,   0,  67, 114,  72, 114, 163, 227, 254,\n",
       "        225, 254, 254, 254, 250, 229, 254, 254, 140,   0,   0,   0,   0,\n",
       "          0,   0],\n",
       "       [  0,   0,   0,   0,   0,   0,   0,   0,   0,   0,   0,  17,  66,\n",
       "         14,  67,  67,  67,  59,  21, 236, 254, 106,   0,   0,   0,   0,\n",
       "          0,   0],\n",
       "       [  0,   0,   0,   0,   0,   0,   0,   0,   0,   0,   0,   0,   0,\n",
       "          0,   0,   0,   0,   0,  83, 253, 209,  18,   0,   0,   0,   0,\n",
       "          0,   0],\n",
       "       [  0,   0,   0,   0,   0,   0,   0,   0,   0,   0,   0,   0,   0,\n",
       "          0,   0,   0,   0,  22, 233, 255,  83,   0,   0,   0,   0,   0,\n",
       "          0,   0],\n",
       "       [  0,   0,   0,   0,   0,   0,   0,   0,   0,   0,   0,   0,   0,\n",
       "          0,   0,   0,   0, 129, 254, 238,  44,   0,   0,   0,   0,   0,\n",
       "          0,   0],\n",
       "       [  0,   0,   0,   0,   0,   0,   0,   0,   0,   0,   0,   0,   0,\n",
       "          0,   0,   0,  59, 249, 254,  62,   0,   0,   0,   0,   0,   0,\n",
       "          0,   0],\n",
       "       [  0,   0,   0,   0,   0,   0,   0,   0,   0,   0,   0,   0,   0,\n",
       "          0,   0,   0, 133, 254, 187,   5,   0,   0,   0,   0,   0,   0,\n",
       "          0,   0],\n",
       "       [  0,   0,   0,   0,   0,   0,   0,   0,   0,   0,   0,   0,   0,\n",
       "          0,   0,   9, 205, 248,  58,   0,   0,   0,   0,   0,   0,   0,\n",
       "          0,   0],\n",
       "       [  0,   0,   0,   0,   0,   0,   0,   0,   0,   0,   0,   0,   0,\n",
       "          0,   0, 126, 254, 182,   0,   0,   0,   0,   0,   0,   0,   0,\n",
       "          0,   0],\n",
       "       [  0,   0,   0,   0,   0,   0,   0,   0,   0,   0,   0,   0,   0,\n",
       "          0,  75, 251, 240,  57,   0,   0,   0,   0,   0,   0,   0,   0,\n",
       "          0,   0],\n",
       "       [  0,   0,   0,   0,   0,   0,   0,   0,   0,   0,   0,   0,   0,\n",
       "         19, 221, 254, 166,   0,   0,   0,   0,   0,   0,   0,   0,   0,\n",
       "          0,   0],\n",
       "       [  0,   0,   0,   0,   0,   0,   0,   0,   0,   0,   0,   0,   3,\n",
       "        203, 254, 219,  35,   0,   0,   0,   0,   0,   0,   0,   0,   0,\n",
       "          0,   0],\n",
       "       [  0,   0,   0,   0,   0,   0,   0,   0,   0,   0,   0,   0,  38,\n",
       "        254, 254,  77,   0,   0,   0,   0,   0,   0,   0,   0,   0,   0,\n",
       "          0,   0],\n",
       "       [  0,   0,   0,   0,   0,   0,   0,   0,   0,   0,   0,  31, 224,\n",
       "        254, 115,   1,   0,   0,   0,   0,   0,   0,   0,   0,   0,   0,\n",
       "          0,   0],\n",
       "       [  0,   0,   0,   0,   0,   0,   0,   0,   0,   0,   0, 133, 254,\n",
       "        254,  52,   0,   0,   0,   0,   0,   0,   0,   0,   0,   0,   0,\n",
       "          0,   0],\n",
       "       [  0,   0,   0,   0,   0,   0,   0,   0,   0,   0,  61, 242, 254,\n",
       "        254,  52,   0,   0,   0,   0,   0,   0,   0,   0,   0,   0,   0,\n",
       "          0,   0],\n",
       "       [  0,   0,   0,   0,   0,   0,   0,   0,   0,   0, 121, 254, 254,\n",
       "        219,  40,   0,   0,   0,   0,   0,   0,   0,   0,   0,   0,   0,\n",
       "          0,   0],\n",
       "       [  0,   0,   0,   0,   0,   0,   0,   0,   0,   0, 121, 254, 207,\n",
       "         18,   0,   0,   0,   0,   0,   0,   0,   0,   0,   0,   0,   0,\n",
       "          0,   0],\n",
       "       [  0,   0,   0,   0,   0,   0,   0,   0,   0,   0,   0,   0,   0,\n",
       "          0,   0,   0,   0,   0,   0,   0,   0,   0,   0,   0,   0,   0,\n",
       "          0,   0]], dtype=uint8)"
      ]
     },
     "execution_count": 5,
     "metadata": {},
     "output_type": "execute_result"
    }
   ],
   "source": [
    "testX[0]"
   ]
  },
  {
   "cell_type": "code",
   "execution_count": 6,
   "metadata": {
    "colab": {
     "base_uri": "https://localhost:8080/"
    },
    "executionInfo": {
     "elapsed": 10,
     "status": "ok",
     "timestamp": 1658751106074,
     "user": {
      "displayName": "Vaibhav Gaur",
      "userId": "01960529911757102386"
     },
     "user_tz": -330
    },
    "id": "EijfLL3NqABx",
    "outputId": "235dd736-a0ec-4a90-c028-c3b57ee3efaa"
   },
   "outputs": [
    {
     "data": {
      "text/plain": [
       "7"
      ]
     },
     "execution_count": 6,
     "metadata": {},
     "output_type": "execute_result"
    }
   ],
   "source": [
    "testY[0]"
   ]
  },
  {
   "cell_type": "code",
   "execution_count": 7,
   "metadata": {},
   "outputs": [
    {
     "data": {
      "image/png": "[encoded data removed]",
      "text/plain": [
       "<Figure size 432x288 with 1 Axes>"
      ]
     },
     "metadata": {
      "needs_background": "light"
     },
     "output_type": "display_data"
    },
    {
     "data": {
      "image/png": "[encoded data removed]",
      "text/plain": [
       "<Figure size 432x288 with 1 Axes>"
      ]
     },
     "metadata": {
      "needs_background": "light"
     },
     "output_type": "display_data"
    },
    {
     "data": {
      "image/png": "[encoded data removed]",
      "text/plain": [
       "<Figure size 432x288 with 1 Axes>"
      ]
     },
     "metadata": {
      "needs_background": "light"
     },
     "output_type": "display_data"
    },
    {
     "data": {
      "image/png": "[encoded data removed]",
      "text/plain": [
       "<Figure size 432x288 with 1 Axes>"
      ]
     },
     "metadata": {
      "needs_background": "light"
     },
     "output_type": "display_data"
    },
    {
     "data": {
      "image/png": "[encoded data removed]",
      "text/plain": [
       "<Figure size 432x288 with 1 Axes>"
      ]
     },
     "metadata": {
      "needs_background": "light"
     },
     "output_type": "display_data"
    }
   ],
   "source": [
    "#Let's review the data in original form\n",
    "for i in range(5):\n",
    "    img_num = np.random.randint(0, testX.shape[0]) #Get a random integer between 0 and number of examples in test dataset\n",
    "    plt.imshow(testX[img_num]) #Show the image from test dataset\n",
    "    plt.suptitle('Number: ' + str(testY[img_num]) + ', Shape of image: ' + str(testX[img_num].shape))\n",
    "    plt.show()"
   ]
  },
  {
   "cell_type": "code",
   "execution_count": 8,
   "metadata": {},
   "outputs": [
    {
     "data": {
      "image/png": "[encoded data removed]",
      "text/plain": [
       "<Figure size 432x288 with 1 Axes>"
      ]
     },
     "metadata": {
      "needs_background": "light"
     },
     "output_type": "display_data"
    },
    {
     "data": {
      "image/png": "[encoded data removed]",
      "text/plain": [
       "<Figure size 432x288 with 1 Axes>"
      ]
     },
     "metadata": {
      "needs_background": "light"
     },
     "output_type": "display_data"
    },
    {
     "data": {
      "image/png": "[encoded data removed]",
      "text/plain": [
       "<Figure size 432x288 with 1 Axes>"
      ]
     },
     "metadata": {
      "needs_background": "light"
     },
     "output_type": "display_data"
    },
    {
     "data": {
      "image/png": "[encoded data removed]",
      "text/plain": [
       "<Figure size 432x288 with 1 Axes>"
      ]
     },
     "metadata": {
      "needs_background": "light"
     },
     "output_type": "display_data"
    },
    {
     "data": {
      "image/png": "[encoded data removed]",
      "text/plain": [
       "<Figure size 432x288 with 1 Axes>"
      ]
     },
     "metadata": {
      "needs_background": "light"
     },
     "output_type": "display_data"
    }
   ],
   "source": [
    "for i in range(5):\n",
    "    img_num = np.random.randint(0, testX.shape[0]) #Get a random integer between 0 and number of examples in test dataset\n",
    "    plt.imshow(testX[img_num], cmap='gray')                      #Show the image from test dataset\n",
    "    plt.suptitle('Number: ' + str(testY[img_num]) + ', Shape of image: ' + str(testX[img_num].shape))\n",
    "    plt.show()"
   ]
  },
  {
   "cell_type": "markdown",
   "metadata": {
    "id": "8rxmqpkpMd6r"
   },
   "source": [
    "### Convert Output label to multiple values"
   ]
  },
  {
   "cell_type": "code",
   "execution_count": 9,
   "metadata": {},
   "outputs": [
    {
     "data": {
      "text/plain": [
       "7"
      ]
     },
     "execution_count": 9,
     "metadata": {},
     "output_type": "execute_result"
    }
   ],
   "source": [
    "testY[0]"
   ]
  },
  {
   "cell_type": "code",
   "execution_count": 10,
   "metadata": {
    "executionInfo": {
     "elapsed": 4,
     "status": "ok",
     "timestamp": 1658751106074,
     "user": {
      "displayName": "Vaibhav Gaur",
      "userId": "01960529911757102386"
     },
     "user_tz": -330
    },
    "id": "Jr8yucgyMd6s"
   },
   "outputs": [],
   "source": [
    "# changing the target variables to categorical\n",
    "trainY = tf.keras.utils.to_categorical(trainY, num_classes=10)\n",
    "testY = tf.keras.utils.to_categorical(testY, num_classes=10)"
   ]
  },
  {
   "cell_type": "code",
   "execution_count": 11,
   "metadata": {
    "colab": {
     "base_uri": "https://localhost:8080/"
    },
    "executionInfo": {
     "elapsed": 4,
     "status": "ok",
     "timestamp": 1658751106074,
     "user": {
      "displayName": "Vaibhav Gaur",
      "userId": "01960529911757102386"
     },
     "user_tz": -330
    },
    "id": "RnY9Bqx0qHkM",
    "outputId": "89687982-b137-489f-8a56-ab6d667918d9"
   },
   "outputs": [
    {
     "data": {
      "text/plain": [
       "array([0., 0., 0., 0., 0., 0., 0., 1., 0., 0.], dtype=float32)"
      ]
     },
     "execution_count": 11,
     "metadata": {},
     "output_type": "execute_result"
    }
   ],
   "source": [
    "testY[0]"
   ]
  },
  {
   "cell_type": "markdown",
   "metadata": {},
   "source": [
    "### Nornalize the input"
   ]
  },
  {
   "cell_type": "code",
   "execution_count": 12,
   "metadata": {},
   "outputs": [
    {
     "data": {
      "text/plain": [
       "array([[  0,   0,   0,   0,   0,   0,   0,   0,   0,   0,   0,   0,   0,\n",
       "          0,   0,   0,   0,   0,   0,   0,   0,   0,   0,   0,   0,   0,\n",
       "          0,   0],\n",
       "       [  0,   0,   0,   0,   0,   0,   0,   0,   0,   0,   0,   0,   0,\n",
       "          0,   0,   0,   0,   0,   0,   0,   0,   0,   0,   0,   0,   0,\n",
       "          0,   0],\n",
       "       [  0,   0,   0,   0,   0,   0,   0,   0,   0,   0,   0,   0,   0,\n",
       "          0,   0,   0,   0,   0,   0,   0,   0,   0,   0,   0,   0,   0,\n",
       "          0,   0],\n",
       "       [  0,   0,   0,   0,   0,   0,   0,   0,   0,   0,   0,   0,   0,\n",
       "          0,   0,   0,   0,   0,   0,   0,   0,   0,   0,   0,   0,   0,\n",
       "          0,   0],\n",
       "       [  0,   0,   0,   0,   0,   0,   0,   0,   0,   0,   0,   0,   0,\n",
       "          0,   0,   0,   0,   0,   0,   0,   0,   0,   0,   0,   0,   0,\n",
       "          0,   0],\n",
       "       [  0,   0,   0,   0,   0,   0,   0,   0,   0,   0,   0,   0,   3,\n",
       "         18,  18,  18, 126, 136, 175,  26, 166, 255, 247, 127,   0,   0,\n",
       "          0,   0],\n",
       "       [  0,   0,   0,   0,   0,   0,   0,   0,  30,  36,  94, 154, 170,\n",
       "        253, 253, 253, 253, 253, 225, 172, 253, 242, 195,  64,   0,   0,\n",
       "          0,   0],\n",
       "       [  0,   0,   0,   0,   0,   0,   0,  49, 238, 253, 253, 253, 253,\n",
       "        253, 253, 253, 253, 251,  93,  82,  82,  56,  39,   0,   0,   0,\n",
       "          0,   0],\n",
       "       [  0,   0,   0,   0,   0,   0,   0,  18, 219, 253, 253, 253, 253,\n",
       "        253, 198, 182, 247, 241,   0,   0,   0,   0,   0,   0,   0,   0,\n",
       "          0,   0],\n",
       "       [  0,   0,   0,   0,   0,   0,   0,   0,  80, 156, 107, 253, 253,\n",
       "        205,  11,   0,  43, 154,   0,   0,   0,   0,   0,   0,   0,   0,\n",
       "          0,   0],\n",
       "       [  0,   0,   0,   0,   0,   0,   0,   0,   0,  14,   1, 154, 253,\n",
       "         90,   0,   0,   0,   0,   0,   0,   0,   0,   0,   0,   0,   0,\n",
       "          0,   0],\n",
       "       [  0,   0,   0,   0,   0,   0,   0,   0,   0,   0,   0, 139, 253,\n",
       "        190,   2,   0,   0,   0,   0,   0,   0,   0,   0,   0,   0,   0,\n",
       "          0,   0],\n",
       "       [  0,   0,   0,   0,   0,   0,   0,   0,   0,   0,   0,  11, 190,\n",
       "        253,  70,   0,   0,   0,   0,   0,   0,   0,   0,   0,   0,   0,\n",
       "          0,   0],\n",
       "       [  0,   0,   0,   0,   0,   0,   0,   0,   0,   0,   0,   0,  35,\n",
       "        241, 225, 160, 108,   1,   0,   0,   0,   0,   0,   0,   0,   0,\n",
       "          0,   0],\n",
       "       [  0,   0,   0,   0,   0,   0,   0,   0,   0,   0,   0,   0,   0,\n",
       "         81, 240, 253, 253, 119,  25,   0,   0,   0,   0,   0,   0,   0,\n",
       "          0,   0],\n",
       "       [  0,   0,   0,   0,   0,   0,   0,   0,   0,   0,   0,   0,   0,\n",
       "          0,  45, 186, 253, 253, 150,  27,   0,   0,   0,   0,   0,   0,\n",
       "          0,   0],\n",
       "       [  0,   0,   0,   0,   0,   0,   0,   0,   0,   0,   0,   0,   0,\n",
       "          0,   0,  16,  93, 252, 253, 187,   0,   0,   0,   0,   0,   0,\n",
       "          0,   0],\n",
       "       [  0,   0,   0,   0,   0,   0,   0,   0,   0,   0,   0,   0,   0,\n",
       "          0,   0,   0,   0, 249, 253, 249,  64,   0,   0,   0,   0,   0,\n",
       "          0,   0],\n",
       "       [  0,   0,   0,   0,   0,   0,   0,   0,   0,   0,   0,   0,   0,\n",
       "          0,  46, 130, 183, 253, 253, 207,   2,   0,   0,   0,   0,   0,\n",
       "          0,   0],\n",
       "       [  0,   0,   0,   0,   0,   0,   0,   0,   0,   0,   0,   0,  39,\n",
       "        148, 229, 253, 253, 253, 250, 182,   0,   0,   0,   0,   0,   0,\n",
       "          0,   0],\n",
       "       [  0,   0,   0,   0,   0,   0,   0,   0,   0,   0,  24, 114, 221,\n",
       "        253, 253, 253, 253, 201,  78,   0,   0,   0,   0,   0,   0,   0,\n",
       "          0,   0],\n",
       "       [  0,   0,   0,   0,   0,   0,   0,   0,  23,  66, 213, 253, 253,\n",
       "        253, 253, 198,  81,   2,   0,   0,   0,   0,   0,   0,   0,   0,\n",
       "          0,   0],\n",
       "       [  0,   0,   0,   0,   0,   0,  18, 171, 219, 253, 253, 253, 253,\n",
       "        195,  80,   9,   0,   0,   0,   0,   0,   0,   0,   0,   0,   0,\n",
       "          0,   0],\n",
       "       [  0,   0,   0,   0,  55, 172, 226, 253, 253, 253, 253, 244, 133,\n",
       "         11,   0,   0,   0,   0,   0,   0,   0,   0,   0,   0,   0,   0,\n",
       "          0,   0],\n",
       "       [  0,   0,   0,   0, 136, 253, 253, 253, 212, 135, 132,  16,   0,\n",
       "          0,   0,   0,   0,   0,   0,   0,   0,   0,   0,   0,   0,   0,\n",
       "          0,   0],\n",
       "       [  0,   0,   0,   0,   0,   0,   0,   0,   0,   0,   0,   0,   0,\n",
       "          0,   0,   0,   0,   0,   0,   0,   0,   0,   0,   0,   0,   0,\n",
       "          0,   0],\n",
       "       [  0,   0,   0,   0,   0,   0,   0,   0,   0,   0,   0,   0,   0,\n",
       "          0,   0,   0,   0,   0,   0,   0,   0,   0,   0,   0,   0,   0,\n",
       "          0,   0],\n",
       "       [  0,   0,   0,   0,   0,   0,   0,   0,   0,   0,   0,   0,   0,\n",
       "          0,   0,   0,   0,   0,   0,   0,   0,   0,   0,   0,   0,   0,\n",
       "          0,   0]], dtype=uint8)"
      ]
     },
     "execution_count": 12,
     "metadata": {},
     "output_type": "execute_result"
    }
   ],
   "source": [
    "trainX[0]"
   ]
  },
  {
   "cell_type": "code",
   "execution_count": 14,
   "metadata": {},
   "outputs": [],
   "source": [
    "trainX = trainX/255.0\n",
    "testX = testX/255.0"
   ]
  },
  {
   "cell_type": "markdown",
   "metadata": {
    "id": "imGSX5XjMd66"
   },
   "source": [
    "## Build the Graph..."
   ]
  },
  {
   "cell_type": "code",
   "execution_count": 15,
   "metadata": {
    "executionInfo": {
     "elapsed": 403,
     "status": "ok",
     "timestamp": 1658751106928,
     "user": {
      "displayName": "Vaibhav Gaur",
      "userId": "01960529911757102386"
     },
     "user_tz": -330
    },
    "id": "Oj8TnaTxMd68"
   },
   "outputs": [],
   "source": [
    "# Clear the existing model in memory\n",
    "tf.keras.backend.clear_session()\n",
    "\n",
    "#Initialize Sequential model\n",
    "model = tf.keras.models.Sequential()\n",
    "\n",
    "#Reshape data from 2D to 1D -> 28x28 to 784\n",
    "model.add(tf.keras.layers.Reshape((784,),input_shape=(28,28,)))\n",
    "\n",
    "#Add 1st hidden layer\n",
    "model.add(tf.keras.layers.BatchNormalization(                         #Normalize the data\n",
    "                                            axis=-1,\n",
    "                                            momentum=0.99,\n",
    "                                            epsilon=0.001,\n",
    "                                            center=True,\n",
    "                                            scale=True,\n",
    "                                            beta_initializer=\"zeros\",\n",
    "                                            gamma_initializer=\"ones\",\n",
    "                                            moving_mean_initializer=\"zeros\",\n",
    "                                            moving_variance_initializer=\"ones\",\n",
    "                                            beta_regularizer=None,\n",
    "                                            gamma_regularizer=None,\n",
    "                                            beta_constraint=None,\n",
    "                                            gamma_constraint=None\n",
    "                                           )\n",
    "         )\n",
    "# model.add(tf.keras.layers.Dense(200, kernel_initializer='he_normal', kernel_regularizer=tf.keras.regularizers.l1_l2()))\n",
    "model.add(tf.keras.layers.Dense(\n",
    "                                units=800,\n",
    "                                activation=None,\n",
    "                                use_bias=True,\n",
    "                                kernel_initializer=\"glorot_uniform\",\n",
    "                                bias_initializer=\"zeros\",\n",
    "                                kernel_regularizer=None,\n",
    "                                bias_regularizer=None,\n",
    "                                activity_regularizer=None,\n",
    "                                kernel_constraint=None,\n",
    "                                bias_constraint=None\n",
    "                               )\n",
    "         ) \n",
    "model.add(tf.keras.layers.LeakyReLU(alpha=0.3))\n",
    "model.add(tf.keras.layers.Dropout(rate=0.2))\n",
    "\n",
    "#Add 2nd hidden layer\n",
    "model.add(tf.keras.layers.BatchNormalization())\n",
    "model.add(tf.keras.layers.Dense(400, kernel_initializer='he_uniform', activation='relu'))\n",
    "#model.add(tf.keras.layers.LeakyReLU())\n",
    "model.add(tf.keras.layers.Dropout(0.2))\n",
    "\n",
    "#Add 3rd hidden layer\n",
    "model.add(tf.keras.layers.BatchNormalization())\n",
    "model.add(tf.keras.layers.Dense(200, kernel_initializer='he_uniform', activation='relu'))\n",
    "#model.add(tf.keras.layers.LeakyReLU())\n",
    "model.add(tf.keras.layers.Dropout(0.2))\n",
    "\n",
    "#Add 4th hidden layer\n",
    "model.add(tf.keras.layers.BatchNormalization())\n",
    "model.add(tf.keras.layers.Dense(100, kernel_initializer='he_uniform', activation='relu'))\n",
    "#model.add(tf.keras.layers.LeakyReLU())\n",
    "model.add(tf.keras.layers.Dropout(0.2))\n",
    "\n",
    "#Add 5th hidden layer\n",
    "model.add(tf.keras.layers.BatchNormalization())\n",
    "model.add(tf.keras.layers.Dense(30, kernel_initializer='he_uniform'))\n",
    "model.add(tf.keras.layers.LeakyReLU())\n",
    "model.add(tf.keras.layers.Dropout(0.1))\n",
    "\n",
    "#Add OUTPUT layer\n",
    "model.add(tf.keras.layers.BatchNormalization())\n",
    "model.add(tf.keras.layers.Dense(10, kernel_initializer='he_uniform', activation='softmax'))"
   ]
  },
  {
   "cell_type": "markdown",
   "metadata": {
    "id": "pYNxSLydMd7U"
   },
   "source": [
    "## Compile the Model"
   ]
  },
  {
   "cell_type": "code",
   "execution_count": 16,
   "metadata": {
    "executionInfo": {
     "elapsed": 2,
     "status": "ok",
     "timestamp": 1658751106928,
     "user": {
      "displayName": "Vaibhav Gaur",
      "userId": "01960529911757102386"
     },
     "user_tz": -330
    },
    "id": "FJWmzZ2vMd7W"
   },
   "outputs": [],
   "source": [
    "nadam_optimizer = tf.keras.optimizers.Nadam(learning_rate=0.001, beta_1=0.9, beta_2=0.999, epsilon=1e-07, name=\"Nadam\") #adam with nestrov\n",
    "\n",
    "#Compile the model\n",
    "model.compile(optimizer=nadam_optimizer, loss='categorical_crossentropy', metrics=['accuracy'], loss_weights=None, weighted_metrics=None,\n",
    "              run_eagerly=None, steps_per_execution=None)"
   ]
  },
  {
   "cell_type": "markdown",
   "metadata": {
    "id": "Lblu99B6Md7l"
   },
   "source": [
    "### Visualizing model training"
   ]
  },
  {
   "cell_type": "code",
   "execution_count": 17,
   "metadata": {
    "scrolled": true
   },
   "outputs": [
    {
     "data": {
      "text/html": [
       "\n",
       "      <iframe id=\"tensorboard-frame-618f4475059e0609\" width=\"100%\" height=\"800\" frameborder=\"0\">\n",
       "      </iframe>\n",
       "      <script>\n",
       "        (function() {\n",
       "          const frame = document.getElementById(\"tensorboard-frame-618f4475059e0609\");\n",
       "          const url = new URL(\"/\", window.location);\n",
       "          const port = 6006;\n",
       "          if (port) {\n",
       "            url.port = port;\n",
       "          }\n",
       "          frame.src = url;\n",
       "        })();\n",
       "      </script>\n",
       "    "
      ],
      "text/plain": [
       "<IPython.core.display.HTML object>"
      ]
     },
     "metadata": {},
     "output_type": "display_data"
    }
   ],
   "source": [
    "#%load_ext tensorboard\n",
    "%load_ext tensorboard\n",
    "\n",
    "#startting tensorboard\n",
    "%tensorboard --logdir ./tmp"
   ]
  },
  {
   "cell_type": "markdown",
   "metadata": {},
   "source": [
    "## Train the model"
   ]
  },
  {
   "cell_type": "code",
   "execution_count": null,
   "metadata": {
    "colab": {
     "base_uri": "https://localhost:8080/"
    },
    "executionInfo": {
     "elapsed": 1731773,
     "status": "ok",
     "timestamp": 1658752839274,
     "user": {
      "displayName": "Vaibhav Gaur",
      "userId": "01960529911757102386"
     },
     "user_tz": -330
    },
    "id": "HyDVYzwxMd7m",
    "outputId": "1f00554e-9963-44f9-f27a-0ae2500f9bd9"
   },
   "outputs": [
    {
     "name": "stdout",
     "output_type": "stream",
     "text": [
      "Epoch 1/100\n",
      "1875/1875 [==============================] - 25s 13ms/step - loss: 0.4009 - accuracy: 0.8812 - val_loss: 0.1193 - val_accuracy: 0.9632\n",
      "\n",
      "Epoch 00001: val_accuracy improved from -inf to 0.96320, saving model to ./tmp/v7\\mnist.h5\n",
      "Epoch 2/100\n",
      "1875/1875 [==============================] - 24s 13ms/step - loss: 0.2296 - accuracy: 0.9319 - val_loss: 0.1354 - val_accuracy: 0.9586\n",
      "\n",
      "Epoch 00002: val_accuracy did not improve from 0.96320\n",
      "Epoch 3/100\n",
      "1875/1875 [==============================] - 24s 13ms/step - loss: 0.1878 - accuracy: 0.9446 - val_loss: 0.1003 - val_accuracy: 0.9669\n",
      "\n",
      "Epoch 00003: val_accuracy improved from 0.96320 to 0.96690, saving model to ./tmp/v7\\mnist.h5\n",
      "Epoch 4/100\n",
      "1875/1875 [==============================] - 24s 13ms/step - loss: 0.1625 - accuracy: 0.9525 - val_loss: 0.0798 - val_accuracy: 0.9755\n",
      "\n",
      "Epoch 00004: val_accuracy improved from 0.96690 to 0.97550, saving model to ./tmp/v7\\mnist.h5\n",
      "Epoch 5/100\n",
      "1875/1875 [==============================] - 25s 13ms/step - loss: 0.1451 - accuracy: 0.9570 - val_loss: 0.0871 - val_accuracy: 0.9721\n",
      "\n",
      "Epoch 00005: val_accuracy did not improve from 0.97550\n",
      "Epoch 6/100\n",
      "1875/1875 [==============================] - 25s 13ms/step - loss: 0.1304 - accuracy: 0.9613 - val_loss: 0.1243 - val_accuracy: 0.9642\n",
      "\n",
      "Epoch 00006: val_accuracy did not improve from 0.97550\n",
      "Epoch 7/100\n",
      "1875/1875 [==============================] - 24s 13ms/step - loss: 0.1216 - accuracy: 0.9640 - val_loss: 0.0906 - val_accuracy: 0.9728\n",
      "\n",
      "Epoch 00007: val_accuracy did not improve from 0.97550\n",
      "Epoch 8/100\n",
      "1875/1875 [==============================] - 25s 13ms/step - loss: 0.1132 - accuracy: 0.9671 - val_loss: 0.0656 - val_accuracy: 0.9784\n",
      "\n",
      "Epoch 00008: val_accuracy improved from 0.97550 to 0.97840, saving model to ./tmp/v7\\mnist.h5\n",
      "Epoch 9/100\n",
      "1875/1875 [==============================] - 23s 12ms/step - loss: 0.1057 - accuracy: 0.9680 - val_loss: 0.0664 - val_accuracy: 0.9801\n",
      "\n",
      "Epoch 00009: val_accuracy improved from 0.97840 to 0.98010, saving model to ./tmp/v7\\mnist.h5\n",
      "Epoch 10/100\n",
      "1875/1875 [==============================] - 25s 13ms/step - loss: 0.1004 - accuracy: 0.9695 - val_loss: 0.0825 - val_accuracy: 0.9747\n",
      "\n",
      "Epoch 00010: val_accuracy did not improve from 0.98010\n",
      "Epoch 11/100\n",
      "1875/1875 [==============================] - 25s 13ms/step - loss: 0.0962 - accuracy: 0.9709 - val_loss: 0.0712 - val_accuracy: 0.9789\n",
      "\n",
      "Epoch 00011: val_accuracy did not improve from 0.98010\n",
      "Epoch 12/100\n",
      "1875/1875 [==============================] - 24s 13ms/step - loss: 0.0872 - accuracy: 0.9736 - val_loss: 0.0938 - val_accuracy: 0.9744\n",
      "\n",
      "Epoch 00012: val_accuracy did not improve from 0.98010\n",
      "Epoch 13/100\n",
      "1875/1875 [==============================] - 25s 13ms/step - loss: 0.0843 - accuracy: 0.9743 - val_loss: 0.0614 - val_accuracy: 0.9817\n",
      "\n",
      "Epoch 00013: val_accuracy improved from 0.98010 to 0.98170, saving model to ./tmp/v7\\mnist.h5\n",
      "Epoch 14/100\n",
      "1875/1875 [==============================] - 24s 13ms/step - loss: 0.0850 - accuracy: 0.9744 - val_loss: 0.0664 - val_accuracy: 0.9794\n",
      "\n",
      "Epoch 00014: val_accuracy did not improve from 0.98170\n",
      "Epoch 15/100\n",
      "1875/1875 [==============================] - 26s 14ms/step - loss: 0.0793 - accuracy: 0.9752 - val_loss: 0.0682 - val_accuracy: 0.9792\n",
      "\n",
      "Epoch 00015: val_accuracy did not improve from 0.98170\n",
      "Epoch 16/100\n",
      "1875/1875 [==============================] - 25s 13ms/step - loss: 0.0756 - accuracy: 0.9770 - val_loss: 0.0703 - val_accuracy: 0.9793\n",
      "\n",
      "Epoch 00016: val_accuracy did not improve from 0.98170\n",
      "Epoch 17/100\n",
      "1875/1875 [==============================] - 25s 13ms/step - loss: 0.0733 - accuracy: 0.9770 - val_loss: 0.0927 - val_accuracy: 0.9730\n",
      "\n",
      "Epoch 00017: val_accuracy did not improve from 0.98170\n",
      "Epoch 18/100\n",
      "1875/1875 [==============================] - 24s 13ms/step - loss: 0.0717 - accuracy: 0.9779 - val_loss: 0.0579 - val_accuracy: 0.9822\n",
      "\n",
      "Epoch 00018: val_accuracy improved from 0.98170 to 0.98220, saving model to ./tmp/v7\\mnist.h5\n",
      "Epoch 19/100\n",
      "1875/1875 [==============================] - 24s 13ms/step - loss: 0.0660 - accuracy: 0.9790 - val_loss: 0.0653 - val_accuracy: 0.9793\n",
      "\n",
      "Epoch 00019: val_accuracy did not improve from 0.98220\n",
      "Epoch 20/100\n",
      "1875/1875 [==============================] - 26s 14ms/step - loss: 0.0675 - accuracy: 0.9801 - val_loss: 0.0619 - val_accuracy: 0.9819\n",
      "\n",
      "Epoch 00020: val_accuracy did not improve from 0.98220\n",
      "Epoch 21/100\n",
      "1875/1875 [==============================] - 25s 13ms/step - loss: 0.0648 - accuracy: 0.9805 - val_loss: 0.0539 - val_accuracy: 0.9844\n",
      "\n",
      "Epoch 00021: val_accuracy improved from 0.98220 to 0.98440, saving model to ./tmp/v7\\mnist.h5\n",
      "Epoch 22/100\n",
      " 464/1875 [======>.......................] - ETA: 18s - loss: 0.0583 - accuracy: 0.9821"
     ]
    }
   ],
   "source": [
    "# Callbacks are used to save the best model during the training, callbacks are functions which can be called during model training\n",
    "#model_checkpoint = tf.keras.callbacks.ModelCheckpoint('mnist_v1.h5', save_best_only=True, monitor='val_loss', mode='auto', verbose=1)\n",
    "\n",
    "model_callbacks = [tf.keras.callbacks.ModelCheckpoint('./tmp/v7/mnist.h5',\n",
    "                                                       monitor= 'val_accuracy',\n",
    "                                                       save_best_only=True,\n",
    "                                                       save_weights_only=True,\n",
    "                                                       mode='auto',\n",
    "                                                       verbose=1),\n",
    "                   tf.keras.callbacks.TensorBoard(log_dir='./tmp/v7',\n",
    "                                                  histogram_freq=1,\n",
    "                                                  embeddings_freq=1\n",
    "                                                 )\n",
    "                  ]\n",
    "\n",
    "model.fit(trainX,trainY,          \n",
    "          validation_data=(testX,testY),\n",
    "          epochs=100,\n",
    "          batch_size=32,\n",
    "          callbacks=[model_callbacks],\n",
    "          shuffle=True,\n",
    "          use_multiprocessing=True)"
   ]
  },
  {
   "cell_type": "markdown",
   "metadata": {},
   "source": [
    "### Saving the best model"
   ]
  },
  {
   "cell_type": "code",
   "execution_count": null,
   "metadata": {
    "executionInfo": {
     "elapsed": 34,
     "status": "ok",
     "timestamp": 1658752839275,
     "user": {
      "displayName": "Vaibhav Gaur",
      "userId": "01960529911757102386"
     },
     "user_tz": -330
    },
    "id": "CKZ7-LXUOGry"
   },
   "outputs": [],
   "source": [
    "model.save('./model/mnist_dnn.h5', include_optimizer=False)"
   ]
  },
  {
   "cell_type": "code",
   "execution_count": null,
   "metadata": {
    "id": "7uUcaIZw-CHH"
   },
   "outputs": [],
   "source": [
    "model = tf.keras.models.load_model('./model/mnist_dnn.h5')"
   ]
  },
  {
   "cell_type": "markdown",
   "metadata": {
    "id": "vLOCTj4j2fsU"
   },
   "source": [
    "## Model Prediction"
   ]
  },
  {
   "cell_type": "code",
   "execution_count": null,
   "metadata": {
    "colab": {
     "base_uri": "https://localhost:8080/"
    },
    "executionInfo": {
     "elapsed": 1081,
     "status": "ok",
     "timestamp": 1658314670107,
     "user": {
      "displayName": "Vaibhav Gaur",
      "userId": "01960529911757102386"
     },
     "user_tz": -330
    },
    "id": "Vw6RNxyS-R6G",
    "outputId": "a05e57eb-3d76-46f7-aaf0-64544c860f6d"
   },
   "outputs": [],
   "source": [
    "model.summary()     # non trainable are those which are not updated by gradient descent, normally from batchnorm"
   ]
  },
  {
   "cell_type": "code",
   "execution_count": 43,
   "metadata": {
    "colab": {
     "base_uri": "https://localhost:8080/"
    },
    "executionInfo": {
     "elapsed": 765,
     "status": "ok",
     "timestamp": 1658462316240,
     "user": {
      "displayName": "Vaibhav Gaur",
      "userId": "01960529911757102386"
     },
     "user_tz": -330
    },
    "id": "3yD_T3aAAGkP",
    "outputId": "f20bdd78-e84e-449e-d783-ed710cb4e38b"
   },
   "outputs": [],
   "source": [
    "#model.get_weights()"
   ]
  },
  {
   "cell_type": "code",
   "execution_count": null,
   "metadata": {
    "colab": {
     "base_uri": "https://localhost:8080/"
    },
    "executionInfo": {
     "elapsed": 4,
     "status": "ok",
     "timestamp": 1658462327172,
     "user": {
      "displayName": "Vaibhav Gaur",
      "userId": "01960529911757102386"
     },
     "user_tz": -330
    },
    "id": "SS7x9cawOVrf",
    "outputId": "d2e4d91d-09c4-4b81-f76e-ffa69b2cbc40"
   },
   "outputs": [],
   "source": [
    "model.input"
   ]
  },
  {
   "cell_type": "code",
   "execution_count": null,
   "metadata": {
    "colab": {
     "base_uri": "https://localhost:8080/"
    },
    "executionInfo": {
     "elapsed": 38,
     "status": "ok",
     "timestamp": 1658314670109,
     "user": {
      "displayName": "Vaibhav Gaur",
      "userId": "01960529911757102386"
     },
     "user_tz": -330
    },
    "id": "5_EKH1Zdy3FP",
    "outputId": "b761d702-5922-44e0-bbe6-d9fcccba38fb"
   },
   "outputs": [],
   "source": [
    "testX[0:5].shape"
   ]
  },
  {
   "cell_type": "code",
   "execution_count": null,
   "metadata": {
    "id": "ToXxgw8i-gcQ"
   },
   "outputs": [],
   "source": [
    "import numpy as np"
   ]
  },
  {
   "cell_type": "code",
   "execution_count": null,
   "metadata": {
    "colab": {
     "base_uri": "https://localhost:8080/"
    },
    "executionInfo": {
     "elapsed": 34,
     "status": "ok",
     "timestamp": 1658314670110,
     "user": {
      "displayName": "Vaibhav Gaur",
      "userId": "01960529911757102386"
     },
     "user_tz": -330
    },
    "id": "iIXUb0DSOj46",
    "outputId": "0da043fb-b172-42aa-87ec-7aa6c48023c0"
   },
   "outputs": [],
   "source": [
    "testX[0].shape"
   ]
  },
  {
   "cell_type": "code",
   "execution_count": null,
   "metadata": {
    "colab": {
     "base_uri": "https://localhost:8080/"
    },
    "executionInfo": {
     "elapsed": 32,
     "status": "ok",
     "timestamp": 1658314670110,
     "user": {
      "displayName": "Vaibhav Gaur",
      "userId": "01960529911757102386"
     },
     "user_tz": -330
    },
    "id": "qTPk1-1-OnMN",
    "outputId": "0953d724-c565-4778-9249-2de963a6fa79"
   },
   "outputs": [],
   "source": [
    "input_data = np.expand_dims(testX[0], axis=0)\n",
    "input_data.shape"
   ]
  },
  {
   "cell_type": "code",
   "execution_count": null,
   "metadata": {
    "colab": {
     "base_uri": "https://localhost:8080/"
    },
    "executionInfo": {
     "elapsed": 29,
     "status": "ok",
     "timestamp": 1658314670110,
     "user": {
      "displayName": "Vaibhav Gaur",
      "userId": "01960529911757102386"
     },
     "user_tz": -330
    },
    "id": "kF2Pc1xZxmn_",
    "outputId": "962e08c2-095d-47a1-b656-e53968ed04c3"
   },
   "outputs": [],
   "source": [
    "pred = model.predict(input_data)\n",
    "pred"
   ]
  },
  {
   "cell_type": "code",
   "execution_count": null,
   "metadata": {
    "colab": {
     "base_uri": "https://localhost:8080/"
    },
    "executionInfo": {
     "elapsed": 28,
     "status": "ok",
     "timestamp": 1658314670111,
     "user": {
      "displayName": "Vaibhav Gaur",
      "userId": "01960529911757102386"
     },
     "user_tz": -330
    },
    "id": "81RPh-28PQRE",
    "outputId": "47e350a1-d1ac-4bc7-9554-80922676f62b"
   },
   "outputs": [],
   "source": [
    "pred.shape"
   ]
  },
  {
   "cell_type": "code",
   "execution_count": null,
   "metadata": {
    "colab": {
     "base_uri": "https://localhost:8080/"
    },
    "executionInfo": {
     "elapsed": 26,
     "status": "ok",
     "timestamp": 1658314670111,
     "user": {
      "displayName": "Vaibhav Gaur",
      "userId": "01960529911757102386"
     },
     "user_tz": -330
    },
    "id": "ZHX4aemJzRRF",
    "outputId": "80a25122-cc5e-4b9a-d3e1-2ace02367510"
   },
   "outputs": [],
   "source": [
    "pred[0]"
   ]
  },
  {
   "cell_type": "code",
   "execution_count": null,
   "metadata": {
    "colab": {
     "base_uri": "https://localhost:8080/"
    },
    "executionInfo": {
     "elapsed": 24,
     "status": "ok",
     "timestamp": 1658314670111,
     "user": {
      "displayName": "Vaibhav Gaur",
      "userId": "01960529911757102386"
     },
     "user_tz": -330
    },
    "id": "QXuDg_kTzoFS",
    "outputId": "58ab3cd2-5974-4ad1-8c4d-08477c5e8586"
   },
   "outputs": [],
   "source": [
    "np.argmax(pred[0])"
   ]
  },
  {
   "cell_type": "code",
   "execution_count": null,
   "metadata": {
    "colab": {
     "base_uri": "https://localhost:8080/",
     "height": 265
    },
    "executionInfo": {
     "elapsed": 22,
     "status": "ok",
     "timestamp": 1658314670112,
     "user": {
      "displayName": "Vaibhav Gaur",
      "userId": "01960529911757102386"
     },
     "user_tz": -330
    },
    "id": "C_dlOJjQzzPa",
    "outputId": "47e13920-7f58-43a9-9f0e-ed9baba9e341"
   },
   "outputs": [],
   "source": [
    "#Lets print the image as well\n",
    "plt.imshow(testX[0],cmap='gray');"
   ]
  },
  {
   "cell_type": "code",
   "execution_count": null,
   "metadata": {},
   "outputs": [],
   "source": []
  },
  {
   "cell_type": "code",
   "execution_count": null,
   "metadata": {
    "id": "NClQj1xv693G"
   },
   "outputs": [],
   "source": []
  }
 ],
 "metadata": {
  "accelerator": "TPU",
  "colab": {
   "collapsed_sections": [],
   "name": "MNIST_Classification.ipynb",
   "provenance": []
  },
  "gpuClass": "standard",
  "kernelspec": {
   "display_name": "Python 3",
   "language": "python",
   "name": "python3"
  },
  "language_info": {
   "codemirror_mode": {
    "name": "ipython",
    "version": 3
   },
   "file_extension": ".py",
   "mimetype": "text/x-python",
   "name": "python",
   "nbconvert_exporter": "python",
   "pygments_lexer": "ipython3",
   "version": "3.6.13"
  }
 },
 "nbformat": 4,
 "nbformat_minor": 1
}
